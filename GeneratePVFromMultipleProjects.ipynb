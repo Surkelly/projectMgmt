{
  "nbformat": 4,
  "nbformat_minor": 0,
  "metadata": {
    "colab": {
      "name": "GeneratePVFromMultipleProjects.ipynb",
      "provenance": [],
      "collapsed_sections": [],
      "authorship_tag": "ABX9TyOoQNryOPsTYksakywdcWgP",
      "include_colab_link": true
    },
    "kernelspec": {
      "name": "python3",
      "display_name": "Python 3"
    },
    "language_info": {
      "name": "python"
    }
  },
  "cells": [
    {
      "cell_type": "markdown",
      "metadata": {
        "id": "view-in-github",
        "colab_type": "text"
      },
      "source": [
        "<a href=\"https://colab.research.google.com/github/Surkelly/projectMgmt/blob/main/GeneratePVFromMultipleProjects.ipynb\" target=\"_parent\"><img src=\"https://colab.research.google.com/assets/colab-badge.svg\" alt=\"Open In Colab\"/></a>"
      ]
    },
    {
      "cell_type": "markdown",
      "source": [
        "# Project planned value calculator\n",
        "## Introduction\n",
        "When we have many projects, it can be difficult to estimate the planned progress.\n",
        "\n",
        "## Objectives\n",
        "The purpose of this notebook is to:\n",
        "a. calculate the Planned Value (PV) from project data (i.e. id, start, end, and cost values (from a flat csv or excel file);\n",
        "b. using a defined function (e.g. sigmoid function); and\n",
        "c. output it into a flat csv file"
      ],
      "metadata": {
        "id": "vtzrt4Y_aTHp"
      }
    },
    {
      "cell_type": "markdown",
      "source": [
        "## Import Libraries\n",
        "We import the following libraries."
      ],
      "metadata": {
        "id": "BhkLWNMTbnmB"
      }
    },
    {
      "cell_type": "code",
      "execution_count": 69,
      "metadata": {
        "id": "QYb3DX1WaLzt"
      },
      "outputs": [],
      "source": [
        "#Import libraries\n",
        "import pandas as pd\n",
        "import numpy as np\n",
        "import matplotlib.pyplot as plt\n",
        "import seaborn as sns\n",
        "import datetime\n"
      ]
    },
    {
      "cell_type": "markdown",
      "source": [
        "## Import Data\n"
      ],
      "metadata": {
        "id": "25cSKBzTbw2L"
      }
    },
    {
      "cell_type": "code",
      "source": [
        "#Option 1: Import local file\n",
        "#from google.colab import files\n",
        "#uploaded = files.upload()\n",
        "#import io\n",
        "#df = pd.read_csv(io.BytesIO(uploaded[\"sample_project_data.csv\"]))"
      ],
      "metadata": {
        "id": "v9bYoHo3j31Z"
      },
      "execution_count": 39,
      "outputs": []
    },
    {
      "cell_type": "code",
      "source": [
        "#Option 2: Import data from Google Sheets\n",
        "from google.colab import auth\n",
        "auth.authenticate_user()\n",
        "\n",
        "import gspread\n",
        "from google.auth import default\n",
        "creds, _ = default()\n",
        "\n",
        "gc = gspread.authorize(creds)\n",
        "\n",
        "worksheet = gc.open('sample_project_data').worksheet('baseline_00')\n",
        "\n",
        "# get_all_values gives a list of rows.\n",
        "rows = worksheet.get_all_values()\n",
        "\n",
        "# Convert to a DataFrame and render.\n",
        "import pandas as pd\n",
        "df = pd.DataFrame.from_records(rows)\n",
        "#assign top row as header row\n",
        "df.columns = df.iloc[0]\n",
        "#drop top row\n",
        "df.drop(0, inplace = True)\n",
        "#reset index\n",
        "df.reset_index(drop=True,inplace=True)"
      ],
      "metadata": {
        "id": "x7m4oWTG3dXC"
      },
      "execution_count": 70,
      "outputs": []
    },
    {
      "cell_type": "code",
      "source": [
        "df.info()"
      ],
      "metadata": {
        "colab": {
          "base_uri": "https://localhost:8080/"
        },
        "id": "Yga5h40Nl6NA",
        "outputId": "376b63b3-3fae-46e6-ad56-05dbd5ff61b5"
      },
      "execution_count": 71,
      "outputs": [
        {
          "output_type": "stream",
          "name": "stdout",
          "text": [
            "<class 'pandas.core.frame.DataFrame'>\n",
            "RangeIndex: 25 entries, 0 to 24\n",
            "Data columns (total 4 columns):\n",
            " #   Column   Non-Null Count  Dtype \n",
            "---  ------   --------------  ----- \n",
            " 0   Project  25 non-null     object\n",
            " 1   P_Start  25 non-null     object\n",
            " 2   P_End    25 non-null     object\n",
            " 3   P_Cost   25 non-null     object\n",
            "dtypes: object(4)\n",
            "memory usage: 928.0+ bytes\n"
          ]
        }
      ]
    },
    {
      "cell_type": "code",
      "source": [
        "df.head()"
      ],
      "metadata": {
        "colab": {
          "base_uri": "https://localhost:8080/",
          "height": 206
        },
        "id": "KINrNoJAC3gJ",
        "outputId": "41702344-0685-42e1-c5a0-37f23942fe3b"
      },
      "execution_count": 72,
      "outputs": [
        {
          "output_type": "execute_result",
          "data": {
            "text/html": [
              "\n",
              "  <div id=\"df-a509a970-4f60-46db-9cc6-3d981529d8a3\">\n",
              "    <div class=\"colab-df-container\">\n",
              "      <div>\n",
              "<style scoped>\n",
              "    .dataframe tbody tr th:only-of-type {\n",
              "        vertical-align: middle;\n",
              "    }\n",
              "\n",
              "    .dataframe tbody tr th {\n",
              "        vertical-align: top;\n",
              "    }\n",
              "\n",
              "    .dataframe thead th {\n",
              "        text-align: right;\n",
              "    }\n",
              "</style>\n",
              "<table border=\"1\" class=\"dataframe\">\n",
              "  <thead>\n",
              "    <tr style=\"text-align: right;\">\n",
              "      <th></th>\n",
              "      <th>Project</th>\n",
              "      <th>P_Start</th>\n",
              "      <th>P_End</th>\n",
              "      <th>P_Cost</th>\n",
              "    </tr>\n",
              "  </thead>\n",
              "  <tbody>\n",
              "    <tr>\n",
              "      <th>0</th>\n",
              "      <td>Repair/Upgrade shore power system Jetty Alpha</td>\n",
              "      <td>27-Sep-19</td>\n",
              "      <td>16-Oct-20</td>\n",
              "      <td>$781,727.00</td>\n",
              "    </tr>\n",
              "    <tr>\n",
              "      <th>1</th>\n",
              "      <td>Repair/Upgrade shipshed power system Jetty Bravo</td>\n",
              "      <td>27-Sep-19</td>\n",
              "      <td>04-Jan-21</td>\n",
              "      <td>$1,394,021.00</td>\n",
              "    </tr>\n",
              "    <tr>\n",
              "      <th>2</th>\n",
              "      <td>Repair/Upgrade of building service installations</td>\n",
              "      <td>01-Aug-19</td>\n",
              "      <td>02-Apr-21</td>\n",
              "      <td>$188,580.00</td>\n",
              "    </tr>\n",
              "    <tr>\n",
              "      <th>3</th>\n",
              "      <td>Refurbishment of social room shipshed Jetty Bravo</td>\n",
              "      <td>16-Sep-19</td>\n",
              "      <td>02-Apr-21</td>\n",
              "      <td>$81,467.00</td>\n",
              "    </tr>\n",
              "    <tr>\n",
              "      <th>4</th>\n",
              "      <td>Refurbishment of offices in shipshed Jetty Bravo</td>\n",
              "      <td>16-Sep-19</td>\n",
              "      <td>02-Apr-21</td>\n",
              "      <td>$203,666.00</td>\n",
              "    </tr>\n",
              "  </tbody>\n",
              "</table>\n",
              "</div>\n",
              "      <button class=\"colab-df-convert\" onclick=\"convertToInteractive('df-a509a970-4f60-46db-9cc6-3d981529d8a3')\"\n",
              "              title=\"Convert this dataframe to an interactive table.\"\n",
              "              style=\"display:none;\">\n",
              "        \n",
              "  <svg xmlns=\"http://www.w3.org/2000/svg\" height=\"24px\"viewBox=\"0 0 24 24\"\n",
              "       width=\"24px\">\n",
              "    <path d=\"M0 0h24v24H0V0z\" fill=\"none\"/>\n",
              "    <path d=\"M18.56 5.44l.94 2.06.94-2.06 2.06-.94-2.06-.94-.94-2.06-.94 2.06-2.06.94zm-11 1L8.5 8.5l.94-2.06 2.06-.94-2.06-.94L8.5 2.5l-.94 2.06-2.06.94zm10 10l.94 2.06.94-2.06 2.06-.94-2.06-.94-.94-2.06-.94 2.06-2.06.94z\"/><path d=\"M17.41 7.96l-1.37-1.37c-.4-.4-.92-.59-1.43-.59-.52 0-1.04.2-1.43.59L10.3 9.45l-7.72 7.72c-.78.78-.78 2.05 0 2.83L4 21.41c.39.39.9.59 1.41.59.51 0 1.02-.2 1.41-.59l7.78-7.78 2.81-2.81c.8-.78.8-2.07 0-2.86zM5.41 20L4 18.59l7.72-7.72 1.47 1.35L5.41 20z\"/>\n",
              "  </svg>\n",
              "      </button>\n",
              "      \n",
              "  <style>\n",
              "    .colab-df-container {\n",
              "      display:flex;\n",
              "      flex-wrap:wrap;\n",
              "      gap: 12px;\n",
              "    }\n",
              "\n",
              "    .colab-df-convert {\n",
              "      background-color: #E8F0FE;\n",
              "      border: none;\n",
              "      border-radius: 50%;\n",
              "      cursor: pointer;\n",
              "      display: none;\n",
              "      fill: #1967D2;\n",
              "      height: 32px;\n",
              "      padding: 0 0 0 0;\n",
              "      width: 32px;\n",
              "    }\n",
              "\n",
              "    .colab-df-convert:hover {\n",
              "      background-color: #E2EBFA;\n",
              "      box-shadow: 0px 1px 2px rgba(60, 64, 67, 0.3), 0px 1px 3px 1px rgba(60, 64, 67, 0.15);\n",
              "      fill: #174EA6;\n",
              "    }\n",
              "\n",
              "    [theme=dark] .colab-df-convert {\n",
              "      background-color: #3B4455;\n",
              "      fill: #D2E3FC;\n",
              "    }\n",
              "\n",
              "    [theme=dark] .colab-df-convert:hover {\n",
              "      background-color: #434B5C;\n",
              "      box-shadow: 0px 1px 3px 1px rgba(0, 0, 0, 0.15);\n",
              "      filter: drop-shadow(0px 1px 2px rgba(0, 0, 0, 0.3));\n",
              "      fill: #FFFFFF;\n",
              "    }\n",
              "  </style>\n",
              "\n",
              "      <script>\n",
              "        const buttonEl =\n",
              "          document.querySelector('#df-a509a970-4f60-46db-9cc6-3d981529d8a3 button.colab-df-convert');\n",
              "        buttonEl.style.display =\n",
              "          google.colab.kernel.accessAllowed ? 'block' : 'none';\n",
              "\n",
              "        async function convertToInteractive(key) {\n",
              "          const element = document.querySelector('#df-a509a970-4f60-46db-9cc6-3d981529d8a3');\n",
              "          const dataTable =\n",
              "            await google.colab.kernel.invokeFunction('convertToInteractive',\n",
              "                                                     [key], {});\n",
              "          if (!dataTable) return;\n",
              "\n",
              "          const docLinkHtml = 'Like what you see? Visit the ' +\n",
              "            '<a target=\"_blank\" href=https://colab.research.google.com/notebooks/data_table.ipynb>data table notebook</a>'\n",
              "            + ' to learn more about interactive tables.';\n",
              "          element.innerHTML = '';\n",
              "          dataTable['output_type'] = 'display_data';\n",
              "          await google.colab.output.renderOutput(dataTable, element);\n",
              "          const docLink = document.createElement('div');\n",
              "          docLink.innerHTML = docLinkHtml;\n",
              "          element.appendChild(docLink);\n",
              "        }\n",
              "      </script>\n",
              "    </div>\n",
              "  </div>\n",
              "  "
            ],
            "text/plain": [
              "0                                            Project  ...         P_Cost\n",
              "0      Repair/Upgrade shore power system Jetty Alpha  ...    $781,727.00\n",
              "1   Repair/Upgrade shipshed power system Jetty Bravo  ...  $1,394,021.00\n",
              "2   Repair/Upgrade of building service installations  ...    $188,580.00\n",
              "3  Refurbishment of social room shipshed Jetty Bravo  ...     $81,467.00\n",
              "4   Refurbishment of offices in shipshed Jetty Bravo  ...    $203,666.00\n",
              "\n",
              "[5 rows x 4 columns]"
            ]
          },
          "metadata": {},
          "execution_count": 72
        }
      ]
    },
    {
      "cell_type": "markdown",
      "source": [
        "## Clean Data"
      ],
      "metadata": {
        "id": "UEmMlQdj1rZY"
      }
    },
    {
      "cell_type": "code",
      "source": [
        "#keep only the columns we need\n",
        "#df = df.drop(columns = ['P_Duration','A_Duration'])\n",
        "#df = df[['Project','P_Start','P_End','P_Cost','A_Start','A_End','A_Cost']]\n",
        "df = df[['Project','P_Start','P_End','P_Cost']]"
      ],
      "metadata": {
        "id": "E7gQcBJqZzQa"
      },
      "execution_count": 73,
      "outputs": []
    },
    {
      "cell_type": "code",
      "source": [
        "#correct data type\n",
        "#convert date columns to date type\n",
        "df['P_Start'] = pd.to_datetime(df['P_Start'])\n",
        "df['P_End'] = pd.to_datetime(df['P_End'])\n",
        "#df['A_Start'] = pd.to_datetime(df['A_Start'])\n",
        "#df['A_End'] = pd.to_datetime(df['A_End'])\n",
        "\n",
        "#convert string columns to numeric\n",
        "#https://pbpython.com/currency-cleanup.html\n",
        "df['P_Cost'] = df['P_Cost'].apply(lambda x: x.replace('$', '').replace(',', '')\n",
        "                                if isinstance(x, str) else x).astype(float)\n",
        "#df['A_Cost'] = df['A_Cost'].apply(lambda x: x.replace('$', '').replace(',', '')\n",
        "#                                if isinstance(x, str) else x).astype(float)"
      ],
      "metadata": {
        "id": "TaAeQUVwRuWd"
      },
      "execution_count": 74,
      "outputs": []
    },
    {
      "cell_type": "code",
      "source": [
        "df.info()"
      ],
      "metadata": {
        "colab": {
          "base_uri": "https://localhost:8080/"
        },
        "id": "VLe-n2oUZhxZ",
        "outputId": "89f9e6c7-143a-4c6b-e48b-7df1bf2d4c7f"
      },
      "execution_count": 75,
      "outputs": [
        {
          "output_type": "stream",
          "name": "stdout",
          "text": [
            "<class 'pandas.core.frame.DataFrame'>\n",
            "RangeIndex: 25 entries, 0 to 24\n",
            "Data columns (total 4 columns):\n",
            " #   Column   Non-Null Count  Dtype         \n",
            "---  ------   --------------  -----         \n",
            " 0   Project  25 non-null     object        \n",
            " 1   P_Start  25 non-null     datetime64[ns]\n",
            " 2   P_End    25 non-null     datetime64[ns]\n",
            " 3   P_Cost   25 non-null     float64       \n",
            "dtypes: datetime64[ns](2), float64(1), object(1)\n",
            "memory usage: 928.0+ bytes\n"
          ]
        }
      ]
    },
    {
      "cell_type": "markdown",
      "source": [
        "## Define helper functions\n",
        "Define some helper functions to help with the calculations later."
      ],
      "metadata": {
        "id": "TGbNmr1x14TU"
      }
    },
    {
      "cell_type": "code",
      "source": [
        "#Define helper functions\n",
        "\n",
        "#takes the dataset and uses the P_Start, P_End, and Cost columns to calculate PV vs Date using s-curve (sigmoid)\n",
        "def Estimate_PV(start,end,cost):\n",
        "  #import libraries\n",
        "  import datetime\n",
        "  import numpy as np\n",
        "  from scipy.special import expit\n",
        "  #calculate duration and convert from datetime to int\n",
        "  duration = end - start\n",
        "  duration_days = duration.days\n",
        "  \n",
        "  #define duration_range for sigmoid\n",
        "  duration_range = np.linspace(-5,5,duration_days+1)\n",
        "  \n",
        "  #model sigmoid\n",
        "  curve_sigmoid = expit(duration_range)\n",
        "  curve_sigmoid[0] = 0\n",
        "  curve_sigmoid[-1] = 1\n",
        "  \n",
        "  #generate date_list\n",
        "  date_list = [start + datetime.timedelta(days = x) for x in range(duration_days + 1)]\n",
        "  \n",
        "  #scale curve to planned value\n",
        "  PV = curve_sigmoid*cost\n",
        "  \n",
        "  #Option 1:Store result in array list\n",
        "  #array = [date_list,PV]\n",
        "  #return array\n",
        "\n",
        "  #option 2: Store result in dataframe\n",
        "  dates = np.array(date_list)\n",
        "  values = np.array(PV)\n",
        "  dataset = pd.DataFrame({'date': dates, 'pv':values})\n",
        "  return dataset"
      ],
      "metadata": {
        "id": "l2G8BaE9UPR6"
      },
      "execution_count": 76,
      "outputs": []
    },
    {
      "cell_type": "code",
      "source": [
        "#takes the dataset, calculates p_curve, and stores it into a dictionary\n",
        "def getPV(data):\n",
        "  df_dict = {}\n",
        "  for ind in data.index:\n",
        "    #get cell values\n",
        "    projectName = data['Project'][ind] \n",
        "    start = data['P_Start'][ind]\n",
        "    end = data['P_End'][ind]\n",
        "    cost = data['P_Cost'][ind]\n",
        "\n",
        "    #calculate the pv_curve\n",
        "    pv_curve = Estimate_PV(start,end,cost)\n",
        "    \n",
        "    #store into a dictionary\n",
        "    pv_dict[projectName] = pv_curve"
      ],
      "metadata": {
        "id": "oi13cxvc3cu6"
      },
      "execution_count": 82,
      "outputs": []
    },
    {
      "cell_type": "markdown",
      "source": [
        "## Transform data"
      ],
      "metadata": {
        "id": "-C81t5pk1_9R"
      }
    },
    {
      "cell_type": "code",
      "source": [
        "#define empty dictionary\n",
        "pv_dict={}\n",
        "#call function to create and store pv-cruves into pv_dict\n",
        "getPV(df)"
      ],
      "metadata": {
        "id": "Zgex0WK5_5_O"
      },
      "execution_count": 193,
      "outputs": []
    },
    {
      "cell_type": "code",
      "source": [
        "#create range X from 1 Jan 2019 to 31 Dec 2029\n",
        "datelist = pd.date_range(start=\"2019-01-01\",end=\"2029-12-31\").to_pydatetime().tolist()\n",
        "#convert to dataframe\n",
        "df_date = pd.DataFrame(datelist, columns=['date'])\n",
        "df_date['pv'] = 0.00\n",
        "#store df_date into last index of pv_dict\n",
        "pv_dict[\"date_axis\"] = df_date"
      ],
      "metadata": {
        "id": "ek1prYJ3L9sB"
      },
      "execution_count": 194,
      "outputs": []
    },
    {
      "cell_type": "code",
      "source": [
        "#iteratively merge df_date with dfs in pv_dict\n",
        "from functools import partial, reduce\n",
        "\n",
        "my_reduce = partial(pd.merge, on=\"date\", how = \"outer\")\n",
        "merged_df = reduce(my_reduce,pv_dict.values())\n",
        "\n",
        "#reorder date column, and reset row index\n",
        "merged_df.sort_values(by=['date'],inplace=True)\n",
        "merged_df.reset_index(drop=True,inplace=True)\n"
      ],
      "metadata": {
        "colab": {
          "base_uri": "https://localhost:8080/"
        },
        "id": "cbxPj0AskvU1",
        "outputId": "11acc6f6-9a47-4bd0-d0ef-1989fc791c34"
      },
      "execution_count": 195,
      "outputs": [
        {
          "output_type": "stream",
          "name": "stderr",
          "text": [
            "/usr/local/lib/python3.7/dist-packages/ipykernel_launcher.py:5: FutureWarning: Passing 'suffixes' which cause duplicate columns {'pv_x'} in the result is deprecated and will raise a MergeError in a future version.\n",
            "  \"\"\"\n"
          ]
        }
      ]
    },
    {
      "cell_type": "code",
      "source": [
        "#reinstate headers\n",
        "\n",
        "#extract headers & and append start of list as date (this'll be used later)\n",
        "list_header = df['Project'].to_numpy().tolist()\n",
        "list_header.insert(0,'date')\n",
        "\n",
        "#reset headers and rename with col index (this'll be used for renaming later)\n",
        "merged_df.columns = pd.RangeIndex(merged_df.columns.size)\n",
        "\n",
        "#rename headers\n",
        "last_col = merged_df.shape[1]\n",
        "merged_df.rename(columns = dict(zip(merged_df.columns[0:last_col],list_header)),inplace=True)\n",
        "\n",
        "#drop last column\n",
        "merged_df.drop(columns=merged_df.columns[-1],\n",
        "               axis = 1,\n",
        "               inplace = True)"
      ],
      "metadata": {
        "id": "6wcbkirnguey"
      },
      "execution_count": 196,
      "outputs": []
    },
    {
      "cell_type": "code",
      "source": [
        "#forward fill\n",
        "merged_df.fillna(method='ffill', inplace = True)\n",
        "\n",
        "#replace NaN valeus with zeros\n",
        "merged_df = merged_df.replace(np.nan,0)\n",
        "\n",
        "#sum all columns\n",
        "merged_df['sum_pv'] = merged_df.sum(axis=1)\n",
        "\n",
        "#add new column with % completed\n",
        "merged_df['percent_pv'] = merged_df['sum_pv']/merged_df['sum_pv'].max()\n",
        "\n",
        "#store in pv_df\n",
        "pv_df = merged_df[['date','sum_pv','percent_pv']]"
      ],
      "metadata": {
        "colab": {
          "base_uri": "https://localhost:8080/"
        },
        "id": "atvF_tnSggse",
        "outputId": "6dfc272b-b296-4828-b9db-819c348187a5"
      },
      "execution_count": 198,
      "outputs": [
        {
          "output_type": "stream",
          "name": "stderr",
          "text": [
            "/usr/local/lib/python3.7/dist-packages/ipykernel_launcher.py:8: FutureWarning: Dropping of nuisance columns in DataFrame reductions (with 'numeric_only=None') is deprecated; in a future version this will raise TypeError.  Select only valid columns before calling the reduction.\n",
            "  \n"
          ]
        }
      ]
    },
    {
      "cell_type": "markdown",
      "source": [
        "## Visualize Data"
      ],
      "metadata": {
        "id": "uJzrcSns2KDl"
      }
    },
    {
      "cell_type": "markdown",
      "source": [
        "### Plot Sum PV vs D"
      ],
      "metadata": {
        "id": "YTKquBodP5j1"
      }
    },
    {
      "cell_type": "markdown",
      "source": [
        "### Plot PV vs Date"
      ],
      "metadata": {
        "id": "9tudSST9PdPB"
      }
    },
    {
      "cell_type": "code",
      "source": [
        "#assign to x and y\n",
        "x = pv_df['date']\n",
        "y = pv_df['sum_pv']\n",
        "\n",
        "#https://stackoverflow.com/questions/37414916/pythons-matplotlib-plotting-in-wrong-order\n",
        "x, y = zip(*sorted(zip(x,y)))\n",
        "\n",
        "plt.plot(x,y)\n",
        "plt.xlabel('Date')\n",
        "plt.ylabel('Planned Value')\n",
        "plt.show()"
      ],
      "metadata": {
        "colab": {
          "base_uri": "https://localhost:8080/",
          "height": 290
        },
        "id": "pgyO7H1wucpA",
        "outputId": "f603801b-da8e-4fa9-b6fe-ba3c47385ebf"
      },
      "execution_count": 199,
      "outputs": [
        {
          "output_type": "display_data",
          "data": {
            "image/png": "[encoded data removed]",
            "text/plain": [
              "<Figure size 432x288 with 1 Axes>"
            ]
          },
          "metadata": {
            "needs_background": "light"
          }
        }
      ]
    },
    {
      "cell_type": "markdown",
      "source": [
        "### Plot % Complete vs Date"
      ],
      "metadata": {
        "id": "JMISaeg_Pig-"
      }
    },
    {
      "cell_type": "code",
      "source": [
        "#assign to x and y\n",
        "x = pv_df['date']\n",
        "y = pv_df['percent_pv']\n",
        "\n",
        "#https://stackoverflow.com/questions/37414916/pythons-matplotlib-plotting-in-wrong-order\n",
        "x, y = zip(*sorted(zip(x,y)))\n",
        "\n",
        "plt.plot(x,y)\n",
        "plt.xlabel('Date')\n",
        "plt.ylabel('% Complete')\n",
        "plt.show()"
      ],
      "metadata": {
        "colab": {
          "base_uri": "https://localhost:8080/",
          "height": 278
        },
        "id": "no2RTte8PmBZ",
        "outputId": "46d6a14f-f245-4ec5-8487-44312357e6da"
      },
      "execution_count": 52,
      "outputs": [
        {
          "output_type": "display_data",
          "data": {
            "image/png": "[encoded data removed]",
            "text/plain": [
              "<Figure size 432x288 with 1 Axes>"
            ]
          },
          "metadata": {
            "needs_background": "light"
          }
        }
      ]
    },
    {
      "cell_type": "code",
      "source": [
        "#lookup sum at specific dates\n",
        "lookup_date = \"2019-03-01\"\n",
        "lookup_sum_pv = pv_df.loc[pv_df['date'] == lookup_date, \"sum_pv\"]\n",
        "lookup_percent_pv = pv_df.loc[pv_df['date'] == lookup_date, \"percent_pv\"]\n",
        "\n",
        "print(\"On \",lookup_date,\", PV is: \", lookup_sum_pv, \" and \", \"% pv is: \", lookup_percent_pv)"
      ],
      "metadata": {
        "colab": {
          "base_uri": "https://localhost:8080/"
        },
        "id": "-jVVLtSHu3us",
        "outputId": "d2fe874a-b87c-443d-c273-214f84f7ebb2"
      },
      "execution_count": 53,
      "outputs": [
        {
          "output_type": "stream",
          "name": "stdout",
          "text": [
            "On  2019-03-01 , PV is:  59    0.0\n",
            "Name: sum_pv, dtype: float64  and  % pv is:  59    0.0\n",
            "Name: percent_pv, dtype: float64\n"
          ]
        }
      ]
    },
    {
      "cell_type": "markdown",
      "source": [
        "## Export Data to .csv"
      ],
      "metadata": {
        "id": "PTvOXVDr2OAt"
      }
    },
    {
      "cell_type": "code",
      "source": [
        "#export to csv\n",
        "from google.colab import files\n",
        "merged_df.to_csv('pv.csv')\n",
        "files.download('pv.csv')"
      ],
      "metadata": {
        "colab": {
          "base_uri": "https://localhost:8080/",
          "height": 17
        },
        "id": "HxaBkTui1Fwr",
        "outputId": "a225f239-d107-4be6-ac84-f64a11727f44"
      },
      "execution_count": 192,
      "outputs": [
        {
          "output_type": "display_data",
          "data": {
            "application/javascript": [
              "\n",
              "    async function download(id, filename, size) {\n",
              "      if (!google.colab.kernel.accessAllowed) {\n",
              "        return;\n",
              "      }\n",
              "      const div = document.createElement('div');\n",
              "      const label = document.createElement('label');\n",
              "      label.textContent = `Downloading \"${filename}\": `;\n",
              "      div.appendChild(label);\n",
              "      const progress = document.createElement('progress');\n",
              "      progress.max = size;\n",
              "      div.appendChild(progress);\n",
              "      document.body.appendChild(div);\n",
              "\n",
              "      const buffers = [];\n",
              "      let downloaded = 0;\n",
              "\n",
              "      const channel = await google.colab.kernel.comms.open(id);\n",
              "      // Send a message to notify the kernel that we're ready.\n",
              "      channel.send({})\n",
              "\n",
              "      for await (const message of channel.messages) {\n",
              "        // Send a message to notify the kernel that we're ready.\n",
              "        channel.send({})\n",
              "        if (message.buffers) {\n",
              "          for (const buffer of message.buffers) {\n",
              "            buffers.push(buffer);\n",
              "            downloaded += buffer.byteLength;\n",
              "            progress.value = downloaded;\n",
              "          }\n",
              "        }\n",
              "      }\n",
              "      const blob = new Blob(buffers, {type: 'application/binary'});\n",
              "      const a = document.createElement('a');\n",
              "      a.href = window.URL.createObjectURL(blob);\n",
              "      a.download = filename;\n",
              "      div.appendChild(a);\n",
              "      a.click();\n",
              "      div.remove();\n",
              "    }\n",
              "  "
            ],
            "text/plain": [
              "<IPython.core.display.Javascript object>"
            ]
          },
          "metadata": {}
        },
        {
          "output_type": "display_data",
          "data": {
            "application/javascript": [
              "download(\"download_afbfab03-8c9d-4f53-9f92-d0666f7875b3\", \"pv.csv\", 1121521)"
            ],
            "text/plain": [
              "<IPython.core.display.Javascript object>"
            ]
          },
          "metadata": {}
        }
      ]
    },
    {
      "cell_type": "markdown",
      "source": [
        "## Write to Google Sheet"
      ],
      "metadata": {
        "id": "xpcrAn83nSW-"
      }
    },
    {
      "cell_type": "code",
      "source": [
        "#set the google worksheet to write to & ckear it\n",
        "wsResults = gc.open('sample_project_data').worksheet('pv_results')\n",
        "wsResults.clear()"
      ],
      "metadata": {
        "colab": {
          "base_uri": "https://localhost:8080/"
        },
        "id": "Yo0x0aHEnQXh",
        "outputId": "94a0a04f-71b4-487a-ea27-7ef045df843a"
      },
      "execution_count": 200,
      "outputs": [
        {
          "output_type": "execute_result",
          "data": {
            "text/plain": [
              "{'clearedRange': 'pv_results!A1:Z4019',\n",
              " 'spreadsheetId': '1vgOiqIaUbPNr02N4ar4lMmxVHwDzsfDTZW0H7Ir7Byk'}"
            ]
          },
          "metadata": {},
          "execution_count": 200
        }
      ]
    },
    {
      "cell_type": "code",
      "source": [
        "#prepare the data to write\n",
        "#https://www.youtube.com/watch?v=cN7W2EPM-dw&ab_channel=LearnGoogleSpreadsheets\n",
        "#convert timedate to string\n",
        "merged_df['date'] = merged_df['date'].astype(str)\n",
        "\n",
        "#create list of lists\n",
        "lOfLists = merged_df.to_numpy().tolist()\n",
        "#get headers\n",
        "headers = merged_df.columns.to_list()\n",
        "#combine into dataToWrite\n",
        "dataToWrite = [headers] + lOfLists"
      ],
      "metadata": {
        "id": "ifgYOQ_dpVp4"
      },
      "execution_count": 201,
      "outputs": []
    },
    {
      "cell_type": "code",
      "source": [
        "#write to worksheet\n",
        "wsResults.update(None, dataToWrite)"
      ],
      "metadata": {
        "colab": {
          "base_uri": "https://localhost:8080/"
        },
        "id": "mSVfVX-3ni3b",
        "outputId": "44962633-51fc-4111-f3fc-231342e5d5d8"
      },
      "execution_count": 202,
      "outputs": [
        {
          "output_type": "execute_result",
          "data": {
            "text/plain": [
              "{'spreadsheetId': '1vgOiqIaUbPNr02N4ar4lMmxVHwDzsfDTZW0H7Ir7Byk',\n",
              " 'updatedCells': 112532,\n",
              " 'updatedColumns': 28,\n",
              " 'updatedRange': 'pv_results!A1:AB4019',\n",
              " 'updatedRows': 4019}"
            ]
          },
          "metadata": {},
          "execution_count": 202
        }
      ]
    },
    {
      "cell_type": "code",
      "source": [
        ""
      ],
      "metadata": {
        "id": "SaksZ-llm-QS"
      },
      "execution_count": null,
      "outputs": []
    }
  ]
}